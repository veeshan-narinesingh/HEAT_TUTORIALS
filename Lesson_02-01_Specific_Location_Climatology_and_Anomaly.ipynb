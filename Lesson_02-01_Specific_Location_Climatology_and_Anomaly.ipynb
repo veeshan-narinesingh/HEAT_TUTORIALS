{
 "cells": [
  {
   "cell_type": "code",
   "execution_count": null,
   "id": "bb3e37cb-38ec-40d6-9344-2b8996b9d15d",
   "metadata": {},
   "outputs": [],
   "source": [
    "# Last Lesson we focused on calculating climatologies and anomalies. What were those again?\n",
    "# This lesson, we will use this information and take it a step further to identify extreme events"
   ]
  },
  {
   "cell_type": "code",
   "execution_count": null,
   "id": "17feae4d-25f7-4613-9d43-8076e19dce33",
   "metadata": {},
   "outputs": [],
   "source": [
    "import xarray as xr\n",
    "import numpy as np\n",
    "import matplotlib.pyplot as plt\n",
    "import cartopy.crs as ccrs\n",
    "import pandas as pd\n",
    "\n",
    "tdir = 'DATA/'\n",
    "ny1=1979 # specify the first year of the data files\n",
    "ny2=2019 # specify the last year of the data files\n",
    "# this time we will load in the temperature for more than 1 year\n",
    "# this can take up a lot of memory so to make things simpler, we will just focus on one gridpoint\n",
    "\n",
    "\n",
    "# note the *, this is a wildcard that will extract all files\n",
    "tfiles='ERA5_2deg_temperature.model_level_137.daily.*.nc'\n",
    "\n",
    "#load in the dataset using xarray\n",
    "tds = xr.open_mfdataset(tdir+tfiles) \n",
    "lon=tds.lon.values\n",
    "lat=tds.lat.values"
   ]
  },
  {
   "cell_type": "code",
   "execution_count": null,
   "id": "d1859253-dabd-4528-b09e-dea1c4a61845",
   "metadata": {},
   "outputs": [],
   "source": [
    "# take a look at the dataset, notice that it is now 14,975 elements long in the time dimension\n",
    "tds"
   ]
  },
  {
   "cell_type": "code",
   "execution_count": null,
   "id": "8d082b81-1f87-471d-b786-00508a4b4212",
   "metadata": {},
   "outputs": [],
   "source": [
    "# the time dimension in this data set is in matlab format, generate a time axis that is in python format\n",
    "\n",
    "timedr = pd.date_range(start=str(ny1)+'-01-01', end=str(ny2)+'-12-31', freq='D')\n",
    "# Convert to a list of datetime objects\n",
    "timedt = timedr.to_pydatetime().tolist()"
   ]
  },
  {
   "cell_type": "code",
   "execution_count": null,
   "id": "d44253ba-f613-42d4-9783-e94b7f26c516",
   "metadata": {},
   "outputs": [],
   "source": [
    "# verify the new time dimension makes sense\n",
    "timedr"
   ]
  },
  {
   "cell_type": "code",
   "execution_count": null,
   "id": "9236681a-db55-4dcc-846d-c6cdae70241b",
   "metadata": {},
   "outputs": [],
   "source": [
    "# Now let's select the location we want to focus on, I will do New York, since that's where I am from\n",
    "\n",
    "loclon=360-74 # NY is 74 West longitude, but the longitude dimension goes from 0 to 360, so we do 360-74\n",
    "loclat=40.71\n",
    "\n",
    "# extract just the data for that location and convert to Fahrenheit \n",
    "\n",
    "loct=1.8*(tds.t.sel(lat=loclat,lon=loclon,method='nearest').values-273.15)+32"
   ]
  },
  {
   "cell_type": "code",
   "execution_count": null,
   "id": "86b19f69-07b4-4f4e-a478-2fddf3ce78f0",
   "metadata": {},
   "outputs": [],
   "source": [
    "# now plot it\n",
    "fig=plt.figure(figsize=[15,5])\n",
    "plt.plot(timedr,loct)\n",
    "\n",
    "# describe what you see in the graph\n"
   ]
  },
  {
   "cell_type": "code",
   "execution_count": null,
   "id": "b705a916-6c52-453e-9d82-4c8a109bc4be",
   "metadata": {},
   "outputs": [],
   "source": [
    "# now let's zoom in and just plot the first 3 years\n",
    "\n",
    "fig=plt.figure(figsize=[15,5])\n",
    "plt.plot(timedr[0:365*3],loct[0:365*3])\n",
    "\n",
    "\n",
    "# Describe what you see. Where does the graph peak? Where does it dip? Why?"
   ]
  },
  {
   "cell_type": "code",
   "execution_count": null,
   "id": "fa821e56-3ac7-4246-a332-fb21eb6d73e6",
   "metadata": {},
   "outputs": [],
   "source": [
    "# let's revisit the concept of the climatology, and calculate it in a naive way by just averaging\n",
    "# all timesteps\n",
    "\n",
    "mean1=loct.mean()\n",
    "mean1\n",
    "\n",
    "# this is the average temperature in NY "
   ]
  },
  {
   "cell_type": "code",
   "execution_count": null,
   "id": "13ead4df-2115-4fb6-b728-d445e79cea1e",
   "metadata": {},
   "outputs": [],
   "source": [
    "# now let's calculate the anomaly using this naive climatological value\n",
    "# then plot it\n",
    "\n",
    "anom1=loct-mean1\n",
    "\n",
    "fig=plt.figure(figsize=[15,5])\n",
    "plt.plot(timedr[0:365*3],anom1[0:365*3])\n",
    "\n",
    "\n",
    "# Notice however, that our anomalies still have a seasonal cycle to them, \n",
    "# i.e. winters are anomalously cold while summers are anomalously warm "
   ]
  },
  {
   "cell_type": "code",
   "execution_count": null,
   "id": "51bfe89e-fbe4-4dfd-aa0f-0c436543ce75",
   "metadata": {},
   "outputs": [],
   "source": [
    "# last lesson we instead calculated the climatology using a seasonal average\n",
    "# this, however, is still problematic because for the JJA seasonal average, \n",
    "# June will be colder, thus it is better to calculate your use a 30 day running mean\n",
    "# to calculate your climatology. \n",
    "\n",
    "\n",
    "\n",
    "# first turn the temperature vector (loct) into an xarray format\n",
    "loctxr = xr.DataArray(loct, coords=[timedr], dims=[\"time\"])\n",
    "\n",
    "\n",
    "# then do a 30 day running mean\n",
    "meanseasonal=loctxr.rolling(time=30,center=True,min_periods=1).mean()\n",
    "\n",
    "\n",
    "# now plot it\n",
    "\n",
    "fig=plt.figure(figsize=[15,5])\n",
    "plt.plot(timedr[0:365*3],meanseasonal[0:365*3])\n",
    "\n",
    "# with this way of calculating the average, you see that all the wiggles are taken out, a.k.a.\n",
    "# the short timescale variability, but we still retain a mean seasonal cycle"
   ]
  },
  {
   "cell_type": "code",
   "execution_count": null,
   "id": "d631985e-1e9a-4216-bdae-39e6d37ea5fe",
   "metadata": {},
   "outputs": [],
   "source": [
    "# now let's calculate the anomaly using the new mean we calculated\n",
    "\n",
    "anom2=loct-meanseasonal\n",
    "\n",
    "fig=plt.figure(figsize=[15,5])\n",
    "plt.plot(timedr[0:365*3],anom2[0:365*3])\n",
    "\n",
    "# Look at the biggest spikes and biggest dips. Do they line up with the raw field?\n",
    "# Develop code to find the min and max anomaly in the timeseries?"
   ]
  },
  {
   "cell_type": "code",
   "execution_count": null,
   "id": "f9b58728-9197-490c-87d3-12459618ab94",
   "metadata": {},
   "outputs": [],
   "source": [
    "# Repeat the analyses above with another location of your own choosing\n",
    "\n",
    "# first calculate the climatology using the average of the full timeseries at that location to\n",
    "# get the annual averaged temperature\n",
    "\n",
    "# then calculate and plot the 30 day running average of temperature and then plot it for that location\n",
    "\n",
    "# then calculate the anomaly and plot it for that location\n",
    "\n",
    "#how does the temperature data and plots for the new location compare to my plots for NY?\n",
    "\n",
    "\n",
    "# do some exploration with the data and play around, Some questions could be how do different locations compare to one another?\n",
    "# How do different years compare to one another? How do the min and max anomalies compare from location to location? etc.."
   ]
  },
  {
   "cell_type": "code",
   "execution_count": null,
   "id": "430fc86d-6d6b-428d-ad83-3b03faff14e5",
   "metadata": {},
   "outputs": [],
   "source": []
  },
  {
   "cell_type": "code",
   "execution_count": null,
   "id": "e525e388-86d0-4509-b163-ff66493f1de3",
   "metadata": {},
   "outputs": [],
   "source": []
  },
  {
   "cell_type": "code",
   "execution_count": null,
   "id": "1a867c0c-46de-418e-98e3-686f5ac8cc76",
   "metadata": {},
   "outputs": [],
   "source": []
  }
 ],
 "metadata": {
  "kernelspec": {
   "display_name": "Python 3",
   "language": "python",
   "name": "python3"
  },
  "language_info": {
   "codemirror_mode": {
    "name": "ipython",
    "version": 3
   },
   "file_extension": ".py",
   "mimetype": "text/x-python",
   "name": "python",
   "nbconvert_exporter": "python",
   "pygments_lexer": "ipython3",
   "version": "3.9.15"
  }
 },
 "nbformat": 4,
 "nbformat_minor": 5
}
